{
  "nbformat": 4,
  "nbformat_minor": 0,
  "metadata": {
    "kernelspec": {
      "display_name": "Python 3",
      "language": "python",
      "name": "python3"
    },
    "language_info": {
      "codemirror_mode": {
        "name": "ipython",
        "version": 3
      },
      "file_extension": ".py",
      "mimetype": "text/x-python",
      "name": "python",
      "nbconvert_exporter": "python",
      "pygments_lexer": "ipython3",
      "version": "3.7.4"
    },
    "colab": {
      "name": "2_5318794027993139028 (1).ipynb",
      "provenance": [],
      "toc_visible": true
    }
  },
  "cells": [
    {
      "cell_type": "markdown",
      "metadata": {
        "id": "_3jYRtoqCko6",
        "colab_type": "text"
      },
      "source": [
        "# Домашнее задание:\n",
        "1) взять данные отсюда: https://github.com/Laggg/data--for--students (flight_delays.csv)"
      ]
    },
    {
      "cell_type": "markdown",
      "metadata": {
        "id": "3i2ZFJLgCko8",
        "colab_type": "text"
      },
      "source": [
        "Задача: научиться предсказывать задержку (столбик *dep_delayed_15min*) рейса по имеющимся данным с помощью Дерева решений (или других алгоритмов).\n",
        "Это задача бинарной классификации (будет/не будет задержка). Улучшить приведенный пример."
      ]
    },
    {
      "cell_type": "code",
      "metadata": {
        "id": "DagZwErjCko9",
        "colab_type": "code",
        "colab": {
          "base_uri": "https://localhost:8080/",
          "height": 71
        },
        "outputId": "891c58a0-6eb0-4b65-ec6e-6632ec8616d1"
      },
      "source": [
        "import seaborn as sns\n",
        "import numpy as np\n",
        "import pandas as pd\n",
        "from sklearn.model_selection import *\n",
        "from sklearn.tree import DecisionTreeClassifier\n",
        "from sklearn.metrics import *\n",
        "\n",
        "import warnings\n",
        "warnings.filterwarnings('ignore')\n",
        "\n",
        "\n",
        "import itertools\n",
        "from sklearn.metrics import confusion_matrix\n",
        "from matplotlib import pyplot as plt\n",
        "\n",
        "def plot_confusion_matrix(targets,predictions,classes,\n",
        "                          normalize=False,title='Confusion matrix',\n",
        "                          figsize=(4, 4), cmap=plt.cm.Reds):\n",
        "\n",
        "    conf_matrix = confusion_matrix(y_true=targets, y_pred=predictions)\n",
        "\n",
        "    if normalize:\n",
        "        conf_matrix = conf_matrix.astype('float') / conf_matrix.sum(axis=1)[:, np.newaxis]\n",
        "        title = 'Normalized ' + title.lower()\n",
        "\n",
        "    plt.figure(figsize=figsize)\n",
        "    plt.imshow(conf_matrix, interpolation='nearest', cmap=cmap)\n",
        "    plt.title(title)\n",
        "    # plt.colorbar()\n",
        "    tick_marks = np.arange(len(classes))\n",
        "    plt.xticks(tick_marks, classes, rotation=45)\n",
        "    plt.yticks(tick_marks, classes)\n",
        "\n",
        "    fmt = '.2f' if normalize else 'd'\n",
        "    thresh = conf_matrix.max() / 2.\n",
        "    for i, j in itertools.product(range(conf_matrix.shape[0]), range(conf_matrix.shape[1])):\n",
        "\n",
        "        if normalize:\n",
        "            value = '{} %'.format(format(conf_matrix[i, j] * 100, '.2f'))\n",
        "        else:\n",
        "            value = format(conf_matrix[i, j], fmt)\n",
        "\n",
        "        plt.text(j,i,value,horizontalalignment=\"center\",color=\"white\" if conf_matrix[i, j] > thresh else \"black\")\n",
        "\n",
        "        plt.ylabel('True label')\n",
        "        plt.xlabel('Predicted label')\n",
        "        plt.tight_layout()"
      ],
      "execution_count": 1,
      "outputs": [
        {
          "output_type": "stream",
          "text": [
            "/usr/local/lib/python3.6/dist-packages/statsmodels/tools/_testing.py:19: FutureWarning: pandas.util.testing is deprecated. Use the functions in the public API at pandas.testing instead.\n",
            "  import pandas.util.testing as tm\n"
          ],
          "name": "stderr"
        }
      ]
    },
    {
      "cell_type": "code",
      "metadata": {
        "id": "Me65gchECkpJ",
        "colab_type": "code",
        "outputId": "5d9e04f6-5d9d-4e2c-e843-d52f329ca0f9",
        "colab": {
          "base_uri": "https://localhost:8080/",
          "height": 204
        }
      },
      "source": [
        "path_to_file = 'flight_delays.csv'\n",
        "data = pd.read_csv(path_to_file)\n",
        "data\n",
        "# Отделим столбик-таргет от признаков:\n",
        "target = (data['dep_delayed_15min'] == 'Y').astype(int)\n",
        "\n",
        "data = data.drop(['dep_delayed_15min'], axis=1)\n",
        "\n",
        "from sklearn.preprocessing import LabelEncoder\n",
        "labelencoder = LabelEncoder()\n",
        "data.UniqueCarrier = labelencoder.fit_transform(data.UniqueCarrier)\n",
        "data.Origin = labelencoder.fit_transform(data.Origin)\n",
        "data.Dest = labelencoder.fit_transform(data.Dest)\n",
        "data.Month=data.Month.apply(lambda x: int(x[2:]))\n",
        "data.DayofMonth=data.DayofMonth.apply(lambda x: int(x[2:]))\n",
        "data.DayOfWeek=data.DayOfWeek.apply(lambda x: int(x[2:]))\n",
        "data.head()"
      ],
      "execution_count": 2,
      "outputs": [
        {
          "output_type": "execute_result",
          "data": {
            "text/html": [
              "<div>\n",
              "<style scoped>\n",
              "    .dataframe tbody tr th:only-of-type {\n",
              "        vertical-align: middle;\n",
              "    }\n",
              "\n",
              "    .dataframe tbody tr th {\n",
              "        vertical-align: top;\n",
              "    }\n",
              "\n",
              "    .dataframe thead th {\n",
              "        text-align: right;\n",
              "    }\n",
              "</style>\n",
              "<table border=\"1\" class=\"dataframe\">\n",
              "  <thead>\n",
              "    <tr style=\"text-align: right;\">\n",
              "      <th></th>\n",
              "      <th>Month</th>\n",
              "      <th>DayofMonth</th>\n",
              "      <th>DayOfWeek</th>\n",
              "      <th>DepTime</th>\n",
              "      <th>UniqueCarrier</th>\n",
              "      <th>Origin</th>\n",
              "      <th>Dest</th>\n",
              "      <th>Distance</th>\n",
              "    </tr>\n",
              "  </thead>\n",
              "  <tbody>\n",
              "    <tr>\n",
              "      <th>0</th>\n",
              "      <td>8</td>\n",
              "      <td>21</td>\n",
              "      <td>7</td>\n",
              "      <td>1934</td>\n",
              "      <td>0</td>\n",
              "      <td>18</td>\n",
              "      <td>78</td>\n",
              "      <td>732</td>\n",
              "    </tr>\n",
              "    <tr>\n",
              "      <th>1</th>\n",
              "      <td>4</td>\n",
              "      <td>20</td>\n",
              "      <td>3</td>\n",
              "      <td>1548</td>\n",
              "      <td>18</td>\n",
              "      <td>217</td>\n",
              "      <td>171</td>\n",
              "      <td>834</td>\n",
              "    </tr>\n",
              "    <tr>\n",
              "      <th>2</th>\n",
              "      <td>9</td>\n",
              "      <td>2</td>\n",
              "      <td>5</td>\n",
              "      <td>1422</td>\n",
              "      <td>20</td>\n",
              "      <td>228</td>\n",
              "      <td>59</td>\n",
              "      <td>416</td>\n",
              "    </tr>\n",
              "    <tr>\n",
              "      <th>3</th>\n",
              "      <td>11</td>\n",
              "      <td>25</td>\n",
              "      <td>6</td>\n",
              "      <td>1015</td>\n",
              "      <td>15</td>\n",
              "      <td>78</td>\n",
              "      <td>175</td>\n",
              "      <td>872</td>\n",
              "    </tr>\n",
              "    <tr>\n",
              "      <th>4</th>\n",
              "      <td>10</td>\n",
              "      <td>7</td>\n",
              "      <td>6</td>\n",
              "      <td>1828</td>\n",
              "      <td>19</td>\n",
              "      <td>174</td>\n",
              "      <td>199</td>\n",
              "      <td>423</td>\n",
              "    </tr>\n",
              "  </tbody>\n",
              "</table>\n",
              "</div>"
            ],
            "text/plain": [
              "   Month  DayofMonth  DayOfWeek  DepTime  UniqueCarrier  Origin  Dest  Distance\n",
              "0      8          21          7     1934              0      18    78       732\n",
              "1      4          20          3     1548             18     217   171       834\n",
              "2      9           2          5     1422             20     228    59       416\n",
              "3     11          25          6     1015             15      78   175       872\n",
              "4     10           7          6     1828             19     174   199       423"
            ]
          },
          "metadata": {
            "tags": []
          },
          "execution_count": 2
        }
      ]
    },
    {
      "cell_type": "code",
      "metadata": {
        "id": "tf7FIJscCkpO",
        "colab_type": "code",
        "outputId": "387944f8-7534-472e-afcc-dec506369541",
        "colab": {
          "base_uri": "https://localhost:8080/",
          "height": 204
        }
      },
      "source": [
        "# возьмем несколько столбцов данных как признаки, по которым будем предсказывать:\n",
        "X = data[['DepTime','Distance','UniqueCarrier','Origin','Dest']]\n",
        "X['DepTime'] = X['DepTime']//100\n",
        "X.head()"
      ],
      "execution_count": 3,
      "outputs": [
        {
          "output_type": "execute_result",
          "data": {
            "text/html": [
              "<div>\n",
              "<style scoped>\n",
              "    .dataframe tbody tr th:only-of-type {\n",
              "        vertical-align: middle;\n",
              "    }\n",
              "\n",
              "    .dataframe tbody tr th {\n",
              "        vertical-align: top;\n",
              "    }\n",
              "\n",
              "    .dataframe thead th {\n",
              "        text-align: right;\n",
              "    }\n",
              "</style>\n",
              "<table border=\"1\" class=\"dataframe\">\n",
              "  <thead>\n",
              "    <tr style=\"text-align: right;\">\n",
              "      <th></th>\n",
              "      <th>DepTime</th>\n",
              "      <th>Distance</th>\n",
              "      <th>UniqueCarrier</th>\n",
              "      <th>Origin</th>\n",
              "      <th>Dest</th>\n",
              "    </tr>\n",
              "  </thead>\n",
              "  <tbody>\n",
              "    <tr>\n",
              "      <th>0</th>\n",
              "      <td>19</td>\n",
              "      <td>732</td>\n",
              "      <td>0</td>\n",
              "      <td>18</td>\n",
              "      <td>78</td>\n",
              "    </tr>\n",
              "    <tr>\n",
              "      <th>1</th>\n",
              "      <td>15</td>\n",
              "      <td>834</td>\n",
              "      <td>18</td>\n",
              "      <td>217</td>\n",
              "      <td>171</td>\n",
              "    </tr>\n",
              "    <tr>\n",
              "      <th>2</th>\n",
              "      <td>14</td>\n",
              "      <td>416</td>\n",
              "      <td>20</td>\n",
              "      <td>228</td>\n",
              "      <td>59</td>\n",
              "    </tr>\n",
              "    <tr>\n",
              "      <th>3</th>\n",
              "      <td>10</td>\n",
              "      <td>872</td>\n",
              "      <td>15</td>\n",
              "      <td>78</td>\n",
              "      <td>175</td>\n",
              "    </tr>\n",
              "    <tr>\n",
              "      <th>4</th>\n",
              "      <td>18</td>\n",
              "      <td>423</td>\n",
              "      <td>19</td>\n",
              "      <td>174</td>\n",
              "      <td>199</td>\n",
              "    </tr>\n",
              "  </tbody>\n",
              "</table>\n",
              "</div>"
            ],
            "text/plain": [
              "   DepTime  Distance  UniqueCarrier  Origin  Dest\n",
              "0       19       732              0      18    78\n",
              "1       15       834             18     217   171\n",
              "2       14       416             20     228    59\n",
              "3       10       872             15      78   175\n",
              "4       18       423             19     174   199"
            ]
          },
          "metadata": {
            "tags": []
          },
          "execution_count": 3
        }
      ]
    },
    {
      "cell_type": "code",
      "metadata": {
        "id": "5UX9CFq1CkpT",
        "colab_type": "code",
        "colab": {}
      },
      "source": [
        "# разделим выборку на обучающую и тестовую(валидационную, проверочную, отложенная)\n",
        "x_train, x_test, y_train, y_test = train_test_split(X, target, test_size=0.1, random_state=42)\n",
        "\n",
        "# обучим модель дерева на обучающей выборке и предскажем на отложенной:\n",
        "model = DecisionTreeClassifier(max_depth=40, min_samples_split=2)\n",
        "clf=DecisionTreeClassifier(criterion='gini')\n",
        "params={'min_samples_split': range(1,10,1), 'max_depth': range(30,50,1)}\n",
        "gscv_clf=GridSearchCV(clf, params, cv=5, scoring='precision')\n",
        "gscv_clf.fit(x_train,y_train)\n",
        "gscv_clf.best_params_\n",
        "best_clf=gscv_clf.best_estimator_\n"
      ],
      "execution_count": 0,
      "outputs": []
    },
    {
      "cell_type": "code",
      "metadata": {
        "id": "EJhCfEQpFuAL",
        "colab_type": "code",
        "outputId": "510b6ecb-f3a3-4ff4-e2d9-6f246e7f29b4",
        "colab": {
          "base_uri": "https://localhost:8080/",
          "height": 119
        }
      },
      "source": [
        "best_clf"
      ],
      "execution_count": 9,
      "outputs": [
        {
          "output_type": "execute_result",
          "data": {
            "text/plain": [
              "DecisionTreeClassifier(ccp_alpha=0.0, class_weight=None, criterion='gini',\n",
              "                       max_depth=45, max_features=None, max_leaf_nodes=None,\n",
              "                       min_impurity_decrease=0.0, min_impurity_split=None,\n",
              "                       min_samples_leaf=1, min_samples_split=3,\n",
              "                       min_weight_fraction_leaf=0.0, presort='deprecated',\n",
              "                       random_state=None, splitter='best')"
            ]
          },
          "metadata": {
            "tags": []
          },
          "execution_count": 9
        }
      ]
    },
    {
      "cell_type": "code",
      "metadata": {
        "id": "l5OLds_yG2d_",
        "colab_type": "code",
        "colab": {}
      },
      "source": [
        "best_clf.fit(x_train, y_train)\n",
        "y_pred = best_clf.predict(x_test)"
      ],
      "execution_count": 0,
      "outputs": []
    },
    {
      "cell_type": "code",
      "metadata": {
        "id": "f2Bnhv2hCkpY",
        "colab_type": "code",
        "outputId": "b55815f7-2713-42bb-d3f1-a2ab04f85ee0",
        "colab": {
          "base_uri": "https://localhost:8080/",
          "height": 348
        }
      },
      "source": [
        "# матрица ошибок алгоритма. При хорошем прогнозе на главной диагонали будут стоять цифры, близкие к 100.\n",
        "print('Общее число совпадений', accuracy_score(y_test, y_pred))\n",
        "print('Полнота охвата класса 1:', recall_score(y_test, y_pred))\n",
        "print('Точность:', precision_score(y_test, y_pred))\n",
        "plot_confusion_matrix(y_test, y_pred, [0,1], normalize=True)"
      ],
      "execution_count": 11,
      "outputs": [
        {
          "output_type": "stream",
          "text": [
            "Общее число совпадений 0.7955\n",
            "Полнота охвата класса 1: 0.2872727272727273\n",
            "Точность: 0.45106035889070145\n"
          ],
          "name": "stdout"
        },
        {
          "output_type": "display_data",
          "data": {
            "image/png": "[encoded data removed]",
            "text/plain": [
              "<Figure size 288x288 with 1 Axes>"
            ]
          },
          "metadata": {
            "tags": [],
            "needs_background": "light"
          }
        }
      ]
    },
    {
      "cell_type": "markdown",
      "metadata": {
        "id": "1vTD8AZOCkpc",
        "colab_type": "text"
      },
      "source": [
        "подсказка - для работы с категориальными признаками прочитайте про Label Encoder и OneHot Encoder"
      ]
    },
    {
      "cell_type": "markdown",
      "metadata": {
        "id": "Whr8gJNsCkpe",
        "colab_type": "text"
      },
      "source": [
        "дедлайн - через неделю, 19.05.2020. Удачи!)"
      ]
    }
  ]
}